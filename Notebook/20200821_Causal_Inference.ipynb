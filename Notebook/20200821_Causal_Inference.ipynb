{
 "cells": [
  {
   "cell_type": "markdown",
   "metadata": {},
   "source": [
    "# 20200821 サブゼミ　効果検証入門 p49~59\n",
    "\n",
    "効果検証入門の本文中で行われている分析を再現しようとしたが、推定値が合わなかったので、修正。\n",
    "主な原因は、**データに人工的なバイアスを発生させていなかった**こと。第１章で記述されていたバイアスの作り方を第２章で使うデータセットにも適用しないと、本と同じ推定結果が得られない。\n",
    "\n",
    "___\n",
    "\n",
    "まずは必要なライブラリ・モジュール群をインポート。"
   ]
  },
  {
   "cell_type": "code",
   "execution_count": 1,
   "metadata": {},
   "outputs": [],
   "source": [
    "import pandas as pd\n",
    "import numpy as np\n",
    "import statsmodels.api as sm\n",
    "import sys"
   ]
  },
  {
   "cell_type": "markdown",
   "metadata": {},
   "source": [
    "### データの生成\n",
    "\n",
    "データのインポート、女性向けメールを配信したレコードの削除、バイアスの発生"
   ]
  },
  {
   "cell_type": "code",
   "execution_count": 12,
   "metadata": {},
   "outputs": [],
   "source": [
    "# セレクションバイアスのあるデータの作成\n",
    "\n",
    "###データのインポート\n",
    "mail_df = pd.read_csv(\"../datas/Kevin_Hillstrom_MineThatData_E-MailAnalytics_DataMiningChallenge_2008.03.20 (1).csv\")\n",
    "### 女性向けメールが配信されたデータを削除したデータを作成\n",
    "male_df = mail_df[mail_df.segment != 'Womens E-Mail'].copy()  # 女性向けメールが配信されたデータを削除\n",
    "male_df[\"treatment\"] = np.where(male_df.segment ==\"Mens E-Mail\",1,0)#介入変数（処置変数）Z\n",
    "\n",
    "## バイアスのあるデータの作成\n",
    "sample_rules = (male_df.history > 300) | (male_df.recency < 6) | (male_df.channel == 'Multichannel')\n",
    "biased_df = pd.concat([\n",
    "    male_df[(sample_rules) & (male_df.treatment == 0)].sample(frac=0.5, random_state=1),\n",
    "    male_df[(sample_rules) & (male_df.treatment == 1)],\n",
    "    male_df[(~sample_rules) & (male_df.treatment == 0)],\n",
    "    male_df[(~sample_rules) & (male_df.treatment == 1)].sample(frac=0.5, random_state=1)\n",
    "], axis=0, ignore_index=True)"
   ]
  },
  {
   "cell_type": "markdown",
   "metadata": {},
   "source": [
    "`segment`カラムの値が`Womens E-mail`以外のデータレコードのみ残すクエリ、`np.where`で介入変数のカラムを追加するクエリをそれぞれ記述。\n",
    "\n",
    "以下、RCTデータ（バイアスなし）：`male_df`\n",
    "バイアスありデータ：`biased_df`"
   ]
  },
  {
   "cell_type": "code",
   "execution_count": 5,
   "metadata": {},
   "outputs": [
    {
     "name": "stdout",
     "output_type": "stream",
     "text": [
      "['Mens E-Mail' 'No E-Mail']\n"
     ]
    }
   ],
   "source": [
    "#カラム内のユニークな要素を確認。\n",
    "print(np.unique(biased_df[\"segment\"]))"
   ]
  },
  {
   "cell_type": "markdown",
   "metadata": {},
   "source": [
    "Numpyの`unique`関数を用いて、`segment`カラムに含まれるユニークな要素をリストアップする。この操作でユニークなカテゴリの種類を把握・確認する。今回は予想通り、２通りのカテゴリしかないことが確認できたが、**汚いデータだと表記の揺れやスペースの全角と半角の違いなどで違う値として含まれている**可能性がある。その場合は、表記を統一する必要がある。この操作は実務上では重要な確認事項。\n",
    "\n",
    "___\n",
    "\n",
    "## RCTデータでの回帰分析\n",
    "\n",
    "今回使うデータセットは、RCT（ABテスト）を行ったものであるので、セレクション・バイアスは生じていないと考えて良い。つまり、目的変数を介入変数のみで回帰して得られる推定値は、純粋な処置効果の推定値として解釈できる。"
   ]
  },
  {
   "cell_type": "code",
   "execution_count": 6,
   "metadata": {},
   "outputs": [
    {
     "data": {
      "text/html": [
       "<table class=\"simpletable\">\n",
       "<tr>\n",
       "      <td></td>         <th>coef</th>     <th>std err</th>      <th>t</th>      <th>P>|t|</th>  <th>[0.025</th>    <th>0.975]</th>  \n",
       "</tr>\n",
       "<tr>\n",
       "  <th>const</th>     <td>    0.6528</td> <td>    0.103</td> <td>    6.356</td> <td> 0.000</td> <td>    0.451</td> <td>    0.854</td>\n",
       "</tr>\n",
       "<tr>\n",
       "  <th>treatment</th> <td>    0.7698</td> <td>    0.145</td> <td>    5.300</td> <td> 0.000</td> <td>    0.485</td> <td>    1.055</td>\n",
       "</tr>\n",
       "</table>"
      ],
      "text/plain": [
       "<class 'statsmodels.iolib.table.SimpleTable'>"
      ]
     },
     "execution_count": 6,
     "metadata": {},
     "output_type": "execute_result"
    }
   ],
   "source": [
    "#RCTデータでの単回帰分析\n",
    "Y_1 = male_df[['spend']]\n",
    "X_1 = male_df[['treatment']]\n",
    "X_1 = sm.add_constant(X_1)\n",
    "model = sm.OLS(Y_1,X_1)\n",
    "results = model.fit()\n",
    "results.summary().tables[1]"
   ]
  },
  {
   "cell_type": "markdown",
   "metadata": {},
   "source": [
    "`statsmodels.api`を用いて回帰分析を行った。Rの操作と異なるのは、\n",
    "\n",
    "- **定数項**を含む回帰モデルであることを明示的に示さなければならない。\n",
    "- カテゴリ変数を**自動的にダミー変数化することはできない**（Rは自動的にやってくれる）\n",
    "\n",
    "treatmentの係数は約0.77となり、本の結果とほぼ一致している。これを真の値と考えよう。\n",
    "\n",
    "___\n",
    "\n",
    "## バイアスを含むデータでの回帰分析\n",
    "\n",
    "今度は人工的にバイアスを発生させたデータ(`biased_df`)で回帰分析してみる。\n",
    "\n",
    "### 単回帰分析"
   ]
  },
  {
   "cell_type": "code",
   "execution_count": 15,
   "metadata": {},
   "outputs": [
    {
     "data": {
      "text/html": [
       "<table class=\"simpletable\">\n",
       "<tr>\n",
       "      <td></td>         <th>coef</th>     <th>std err</th>      <th>t</th>      <th>P>|t|</th>  <th>[0.025</th>    <th>0.975]</th>  \n",
       "</tr>\n",
       "<tr>\n",
       "  <th>const</th>     <td>    0.5580</td> <td>    0.129</td> <td>    4.328</td> <td> 0.000</td> <td>    0.305</td> <td>    0.811</td>\n",
       "</tr>\n",
       "<tr>\n",
       "  <th>treatment</th> <td>    0.9837</td> <td>    0.176</td> <td>    5.596</td> <td> 0.000</td> <td>    0.639</td> <td>    1.328</td>\n",
       "</tr>\n",
       "</table>"
      ],
      "text/plain": [
       "<class 'statsmodels.iolib.table.SimpleTable'>"
      ]
     },
     "execution_count": 15,
     "metadata": {},
     "output_type": "execute_result"
    }
   ],
   "source": [
    "#セレクションバイアスのあるデータでの単回帰分析\n",
    "Y_2 = biased_df[['spend']]\n",
    "X_2 = biased_df[['treatment']]\n",
    "X_2 = sm.add_constant(X_2)\n",
    "model = sm.OLS(Y_2,X_2)\n",
    "results = model.fit()\n",
    "results.summary().tables[1]"
   ]
  },
  {
   "cell_type": "markdown",
   "metadata": {},
   "source": [
    "treatmentの推定値は0.9837である。0.77と比べて過剰推定した形となっている。ここに、共変量を加えて重回帰分析を試みる。\n",
    "___\n",
    "\n",
    "\n",
    "### 重回帰分析"
   ]
  },
  {
   "cell_type": "code",
   "execution_count": 16,
   "metadata": {},
   "outputs": [
    {
     "data": {
      "text/html": [
       "<table class=\"simpletable\">\n",
       "<tr>\n",
       "        <td></td>           <th>coef</th>     <th>std err</th>      <th>t</th>      <th>P>|t|</th>  <th>[0.025</th>    <th>0.975]</th>  \n",
       "</tr>\n",
       "<tr>\n",
       "  <th>const</th>         <td>    0.4761</td> <td>    0.386</td> <td>    1.233</td> <td> 0.218</td> <td>   -0.281</td> <td>    1.233</td>\n",
       "</tr>\n",
       "<tr>\n",
       "  <th>treatment</th>     <td>    0.8617</td> <td>    0.181</td> <td>    4.750</td> <td> 0.000</td> <td>    0.506</td> <td>    1.217</td>\n",
       "</tr>\n",
       "<tr>\n",
       "  <th>recency</th>       <td>   -0.0361</td> <td>    0.026</td> <td>   -1.372</td> <td> 0.170</td> <td>   -0.088</td> <td>    0.015</td>\n",
       "</tr>\n",
       "<tr>\n",
       "  <th>history</th>       <td>    0.0010</td> <td>    0.000</td> <td>    2.655</td> <td> 0.008</td> <td>    0.000</td> <td>    0.002</td>\n",
       "</tr>\n",
       "<tr>\n",
       "  <th>channel_Phone</th> <td>   -0.0079</td> <td>    0.310</td> <td>   -0.025</td> <td> 0.980</td> <td>   -0.616</td> <td>    0.600</td>\n",
       "</tr>\n",
       "<tr>\n",
       "  <th>channel_Web</th>   <td>    0.2540</td> <td>    0.310</td> <td>    0.820</td> <td> 0.412</td> <td>   -0.353</td> <td>    0.861</td>\n",
       "</tr>\n",
       "</table>"
      ],
      "text/plain": [
       "<class 'statsmodels.iolib.table.SimpleTable'>"
      ]
     },
     "execution_count": 16,
     "metadata": {},
     "output_type": "execute_result"
    }
   ],
   "source": [
    "#セレクション・バイアスのあるデータでの重回帰分析\n",
    "Y_3 = biased_df[['spend']]\n",
    "X_3 = pd.get_dummies(biased_df[['treatment','recency','channel','history']],columns=['channel'],drop_first=True)\n",
    "X_3 = sm.add_constant(X_3)\n",
    "results = sm.OLS(Y_3,X_3).fit()\n",
    "results.summary().tables[1]"
   ]
  },
  {
   "cell_type": "markdown",
   "metadata": {},
   "source": [
    "treatmentの推定値は、0.8617である。単回帰分析の結果よりも0.77に近づく結果となった。共変量による交絡調整がうまく行っているようである。\n",
    "\n",
    "また、pandasの`get_dummies`関数により、channnelカラムのカテゴリ3つに対し、2つのダミー変数を自動的に作成している。Rでの`lm`関数の振る舞いをこれで再現している形。解析はやっぱりRの方が圧倒的に便利。\n",
    "___\n",
    "___\n"
   ]
  },
  {
   "cell_type": "markdown",
   "metadata": {},
   "source": [
    "## 脱落変数バイアス(OVB)\n",
    "本来考慮すべき共変量がモデルに含まれていないことにより、興味のある変数に生じてしまうバイアスを**脱落変数バイアス(Omitted Variable Bias)**と呼ぶ（**欠落変数バイアス**と訳されることもあり、個人的にはこっちをよく使う）。この節では、脱落変数バイアスの存在を確かめるためのシミュレーションを行う。"
   ]
  },
  {
   "cell_type": "markdown",
   "metadata": {},
   "source": [
    "※添字$i$は省略。\n",
    "\n",
    "モデルA\n",
    "$$\n",
    "Spend = \\alpha_{0} + \\alpha_{1}treatment+ \\alpha_{2}recency+ \\alpha_{3}channel+e\n",
    "$$\n",
    "\n",
    "モデルB\n",
    "$$\n",
    "Spend = \\beta_{0} + \\beta_{1}treatment+ \\beta_{2}recency+ \\beta_{3}channel+\\beta_{4}history+u\n",
    "$$\n",
    "\n",
    "の2つを考える。Aは共変量historyが欠落している。この場合、それぞれのモデルのtreatmentの係数$\\alpha_{1}$と$\\beta_{1}$の間にはどのような関係性があるだろうか。結論としては、\n",
    "\n",
    "$$\n",
    "\\alpha_{1} =\\beta_{1}+\\gamma_{1}\\beta_{4}\n",
    "$$\n",
    "\n",
    "と書くことができる。直感的には、**(欠落しているモデルの係数)=（欠落していないモデルの係数）＋（バイアス）**\n",
    "と解釈できる。この式における$\\gamma_{1}$とは何だろうか？これは、\n",
    "\n",
    "$$\n",
    "history = \\gamma_{0} + \\gamma_{1}treatment+ \\gamma_{2}recency+ \\gamma_{3}channel+\\epsilon\n",
    "$$\n",
    "\n",
    "という回帰モデル(モデルCとする)におけるtreatmentの係数である。つまり$\\gamma_{1}\\beta_{4}$とは、**「欠落変数と介入変数との相関」と「欠落変数と目的変数との相関」との積**である。**欠落変数を一般に$X_{omit}$とすると、$X_{omit}$と$Z$との相関の大きさと$X_{omit}$と$Y$の相関の大きさを掛け算した分だけ過剰に推定してしまう**ことになる。\n",
    "\n",
    "一方**RCTデータの場合、介入は共変量に依存せずランダムに割り当てられる。したがって$\\gamma_{1}=0$となり、OVBは発生しない**。\n",
    "\n",
    "___\n",
    "\n",
    "### historyなしの回帰分析"
   ]
  },
  {
   "cell_type": "code",
   "execution_count": 19,
   "metadata": {},
   "outputs": [
    {
     "data": {
      "text/html": [
       "<table class=\"simpletable\">\n",
       "<tr>\n",
       "        <td></td>           <th>coef</th>     <th>std err</th>      <th>t</th>      <th>P>|t|</th>  <th>[0.025</th>    <th>0.975]</th>  \n",
       "</tr>\n",
       "<tr>\n",
       "  <th>const</th>         <td>    1.0644</td> <td>    0.316</td> <td>    3.365</td> <td> 0.001</td> <td>    0.444</td> <td>    1.684</td>\n",
       "</tr>\n",
       "<tr>\n",
       "  <th>treatment</th>     <td>    0.8905</td> <td>    0.181</td> <td>    4.917</td> <td> 0.000</td> <td>    0.536</td> <td>    1.245</td>\n",
       "</tr>\n",
       "<tr>\n",
       "  <th>recency</th>       <td>   -0.0506</td> <td>    0.026</td> <td>   -1.965</td> <td> 0.049</td> <td>   -0.101</td> <td>   -0.000</td>\n",
       "</tr>\n",
       "<tr>\n",
       "  <th>channel_Phone</th> <td>   -0.3197</td> <td>    0.287</td> <td>   -1.114</td> <td> 0.265</td> <td>   -0.882</td> <td>    0.243</td>\n",
       "</tr>\n",
       "<tr>\n",
       "  <th>channel_Web</th>   <td>   -0.0576</td> <td>    0.287</td> <td>   -0.201</td> <td> 0.841</td> <td>   -0.619</td> <td>    0.504</td>\n",
       "</tr>\n",
       "</table>"
      ],
      "text/plain": [
       "<class 'statsmodels.iolib.table.SimpleTable'>"
      ]
     },
     "execution_count": 19,
     "metadata": {},
     "output_type": "execute_result"
    }
   ],
   "source": [
    "#historyなしの回帰分析(モデルA)\n",
    "Y_4 = biased_df[['spend']]\n",
    "X_4 = pd.get_dummies(biased_df[['treatment','recency','channel']],columns=['channel'],drop_first=True)\n",
    "X_4 = sm.add_constant(X_4)\n",
    "results = sm.OLS(Y_4,X_4).fit()\n",
    "results.summary().tables[1]"
   ]
  },
  {
   "cell_type": "markdown",
   "metadata": {},
   "source": [
    "historyが欠落したモデルの推定結果。\n",
    "\n",
    "___\n",
    "\n",
    "### historyありの回帰分析"
   ]
  },
  {
   "cell_type": "code",
   "execution_count": 22,
   "metadata": {},
   "outputs": [
    {
     "data": {
      "text/html": [
       "<table class=\"simpletable\">\n",
       "<tr>\n",
       "        <td></td>           <th>coef</th>     <th>std err</th>      <th>t</th>      <th>P>|t|</th>  <th>[0.025</th>    <th>0.975]</th>  \n",
       "</tr>\n",
       "<tr>\n",
       "  <th>const</th>         <td>    0.4761</td> <td>    0.386</td> <td>    1.233</td> <td> 0.218</td> <td>   -0.281</td> <td>    1.233</td>\n",
       "</tr>\n",
       "<tr>\n",
       "  <th>treatment</th>     <td>    0.8617</td> <td>    0.181</td> <td>    4.750</td> <td> 0.000</td> <td>    0.506</td> <td>    1.217</td>\n",
       "</tr>\n",
       "<tr>\n",
       "  <th>recency</th>       <td>   -0.0361</td> <td>    0.026</td> <td>   -1.372</td> <td> 0.170</td> <td>   -0.088</td> <td>    0.015</td>\n",
       "</tr>\n",
       "<tr>\n",
       "  <th>history</th>       <td>    0.0010</td> <td>    0.000</td> <td>    2.655</td> <td> 0.008</td> <td>    0.000</td> <td>    0.002</td>\n",
       "</tr>\n",
       "<tr>\n",
       "  <th>channel_Phone</th> <td>   -0.0079</td> <td>    0.310</td> <td>   -0.025</td> <td> 0.980</td> <td>   -0.616</td> <td>    0.600</td>\n",
       "</tr>\n",
       "<tr>\n",
       "  <th>channel_Web</th>   <td>    0.2540</td> <td>    0.310</td> <td>    0.820</td> <td> 0.412</td> <td>   -0.353</td> <td>    0.861</td>\n",
       "</tr>\n",
       "</table>"
      ],
      "text/plain": [
       "<class 'statsmodels.iolib.table.SimpleTable'>"
      ]
     },
     "execution_count": 22,
     "metadata": {},
     "output_type": "execute_result"
    }
   ],
   "source": [
    "#historyありの回帰分析(モデルB)\n",
    "Y_5 = biased_df[['spend']]\n",
    "X_5 = pd.get_dummies(biased_df[['treatment','recency','channel','history']],columns=['channel'],drop_first=True)\n",
    "X_5 = sm.add_constant(X_5)\n",
    "results = sm.OLS(Y_5,X_5).fit()\n",
    "results.summary().tables[1]"
   ]
  },
  {
   "cell_type": "code",
   "execution_count": 25,
   "metadata": {},
   "outputs": [],
   "source": [
    "beta_1 = results.params['treatment']\n",
    "beta_4 = results.params['history']#脱落変数のパラメータ"
   ]
  },
  {
   "cell_type": "markdown",
   "metadata": {},
   "source": [
    "historyが欠落していないモデルの推定結果。\n",
    "___\n",
    "\n",
    "### historyを介入変数で回帰"
   ]
  },
  {
   "cell_type": "code",
   "execution_count": 26,
   "metadata": {},
   "outputs": [],
   "source": [
    "#脱落した変数と介入変数の回帰分析(モデルC)\n",
    "Y_6 = biased_df[['history']]\n",
    "X_6 = pd.get_dummies(biased_df[['treatment', 'recency', 'channel']], columns=['channel'], drop_first=True)\n",
    "X_6 = sm.add_constant(X_6)\n",
    "results = sm.OLS(Y_6, X_6).fit()\n",
    "modelC_coef = results.summary().tables[1]\n",
    "gamma_1 = results.params['treatment']"
   ]
  },
  {
   "cell_type": "markdown",
   "metadata": {},
   "source": [
    "この結果から、$\\gamma_{1}$を得る。\n",
    "\n",
    "これで必要なパラメータは全て得られたので、OVBの計算結果が合うかを計算する。\n",
    "\n",
    "$$\n",
    "\\alpha_{1} =\\beta_{1}+\\gamma_{1}\\beta_{4}\n",
    "$$\n",
    "\n",
    "を変形して\n",
    "\n",
    "$$\n",
    "\\alpha_{1} -\\beta_{1}=\\gamma_{1}\\beta_{4}\n",
    "$$\n",
    "\n",
    "として、右辺と左辺の結果が一致するかを確かめる。つまり、**(モデル同士の係数の差)＝(脱落変数バイアス)**という関係が成り立つかを確かめる。\n"
   ]
  },
  {
   "cell_type": "code",
   "execution_count": 27,
   "metadata": {},
   "outputs": [
    {
     "name": "stdout",
     "output_type": "stream",
     "text": [
      "0.028816423676830263\n",
      "0.028816423676823355\n"
     ]
    }
   ],
   "source": [
    "print(gamma_1*beta_4)\n",
    "print(alpha_1-beta_1)"
   ]
  },
  {
   "cell_type": "markdown",
   "metadata": {},
   "source": [
    "計算結果が一致した。数値も本とほぼ同じ値になった。"
   ]
  }
 ],
 "metadata": {
  "kernelspec": {
   "display_name": "Python 3",
   "language": "python",
   "name": "python3"
  },
  "language_info": {
   "codemirror_mode": {
    "name": "ipython",
    "version": 3
   },
   "file_extension": ".py",
   "mimetype": "text/x-python",
   "name": "python",
   "nbconvert_exporter": "python",
   "pygments_lexer": "ipython3",
   "version": "3.7.0"
  }
 },
 "nbformat": 4,
 "nbformat_minor": 2
}
